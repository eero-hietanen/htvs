{
 "cells": [
  {
   "cell_type": "code",
   "execution_count": null,
   "metadata": {},
   "outputs": [],
   "source": [
    "from meeko import MoleculePreparation\n",
    "from vina import Vina\n",
    "from rdkit import Chem\n",
    "from meeko import PDBQTMolecule\n",
    "from meeko import PDBQTWriterLegacy"
   ]
  },
  {
   "cell_type": "code",
   "execution_count": null,
   "metadata": {},
   "outputs": [],
   "source": [
    "v = Vina(sf_name='vina', cpu=8)\n",
    "v.set_receptor('Data/9f6a.pdbqt')\n",
    "v.set_ligand_from_file('Data/lig-1.pdbqt')\n",
    "\n",
    "docking_box = {\"center\": [136.733, 172.819, 99.189], \"box_size\": [11.69, 7.09, 7.60]}\n",
    "v.compute_vina_maps(**docking_box)\n",
    "\n",
    "v.dock(exhaustiveness=8, n_poses=5)"
   ]
  },
  {
   "cell_type": "code",
   "execution_count": 4,
   "metadata": {},
   "outputs": [],
   "source": [
    "preparator = MoleculePreparation()"
   ]
  },
  {
   "cell_type": "code",
   "execution_count": null,
   "metadata": {},
   "outputs": [],
   "source": [
    "test_lig = Chem.SDMolSupplier('Data/ligands.sdf')[0]\n",
    "test_lig"
   ]
  },
  {
   "cell_type": "code",
   "execution_count": 85,
   "metadata": {},
   "outputs": [],
   "source": [
    "test_lig = Chem.AddHs(test_lig)"
   ]
  },
  {
   "cell_type": "code",
   "execution_count": null,
   "metadata": {},
   "outputs": [],
   "source": [
    "Chem.rdDistGeom.EmbedMolecule(test_lig)"
   ]
  },
  {
   "cell_type": "code",
   "execution_count": null,
   "metadata": {},
   "outputs": [],
   "source": [
    "test_lig"
   ]
  },
  {
   "cell_type": "code",
   "execution_count": 88,
   "metadata": {},
   "outputs": [],
   "source": [
    "mol_setups = preparator.prepare(test_lig)"
   ]
  },
  {
   "cell_type": "code",
   "execution_count": null,
   "metadata": {},
   "outputs": [],
   "source": [
    "for setup in mol_setups:\n",
    "    pdbqt_string, is_ok, error_msg = PDBQTWriterLegacy.write_string(setup)\n",
    "    if is_ok:\n",
    "        print(pdbqt_string, end = \"\")"
   ]
  },
  {
   "cell_type": "code",
   "execution_count": 91,
   "metadata": {},
   "outputs": [],
   "source": [
    "ligands = Chem.SDMolSupplier('Data/ligands.sdf')"
   ]
  },
  {
   "cell_type": "code",
   "execution_count": null,
   "metadata": {},
   "outputs": [],
   "source": [
    "len(ligands)"
   ]
  },
  {
   "cell_type": "code",
   "execution_count": null,
   "metadata": {},
   "outputs": [],
   "source": [
    "for i, mol in enumerate(ligands):\n",
    "    if mol is None:\n",
    "        continue\n",
    "    if i >= 100:\n",
    "        break\n",
    "    print(ligands[i].GetProp('_Name'))"
   ]
  },
  {
   "cell_type": "code",
   "execution_count": null,
   "metadata": {},
   "outputs": [],
   "source": [
    "from rdkit.Chem import SDMolSupplier\n",
    " \n",
    "def process_ligands_in_batches(input_sdf_file, batch_size):\n",
    "    suppl = SDMolSupplier(input_sdf_file)\n",
    " \n",
    "    batch = []\n",
    "    for idx, mol in enumerate(suppl):\n",
    "        if mol is not None:\n",
    "            batch.append(mol)\n",
    " \n",
    "        # Process and flush the batch when the batch size is reached\n",
    "        if len(batch) == batch_size:\n",
    "            process_batch(batch, idx // batch_size)\n",
    "            batch.clear()  # Clear the batch after processing\n",
    " \n",
    "    # Process any remaining ligands in the final batch\n",
    "    if batch:\n",
    "        process_batch(batch, idx // batch_size)\n",
    " \n",
    "def process_batch(batch, batch_idx):\n",
    "    # Convert batch to PDBQT or perform docking in a single step\n",
    "    print(f\"Processing batch {batch_idx + 1} with {len(batch)} ligands.\")\n",
    "    # Replace with actual conversion and docking logic\n",
    " \n",
    "# Example usage\n",
    "input_sdf_file = 'ligands.sdf'\n",
    "batch_size = 100  # Adjust batch size for performance and memory\n",
    " \n",
    "process_ligands_in_batches(input_sdf_file, batch_size)"
   ]
  },
  {
   "cell_type": "code",
   "execution_count": 11,
   "metadata": {},
   "outputs": [],
   "source": [
    "import os"
   ]
  },
  {
   "cell_type": "code",
   "execution_count": 12,
   "metadata": {},
   "outputs": [],
   "source": [
    "if not os.path.exists('Output'):\n",
    "    os.makedirs('Output')"
   ]
  },
  {
   "cell_type": "code",
   "execution_count": 8,
   "metadata": {},
   "outputs": [],
   "source": [
    "from openbabel import pybel\n",
    "from openbabel import openbabel"
   ]
  },
  {
   "cell_type": "code",
   "execution_count": null,
   "metadata": {},
   "outputs": [],
   "source": [
    "mol_iter = pybel.readfile(filename = 'Data/ligands_10.sdf', format = 'sdf')"
   ]
  },
  {
   "cell_type": "code",
   "execution_count": null,
   "metadata": {},
   "outputs": [],
   "source": [
    "type(mol_iter)"
   ]
  },
  {
   "cell_type": "code",
   "execution_count": null,
   "metadata": {},
   "outputs": [],
   "source": [
    "for mol in mol_iter:\n",
    "    print(mol.molwt)"
   ]
  },
  {
   "cell_type": "code",
   "execution_count": 17,
   "metadata": {},
   "outputs": [],
   "source": [
    "from openbabel import openbabel\n",
    "from openbabel import pybel\n",
    "\n",
    "# Input and output file paths\n",
    "input_smi = \"Data/ligands_10_2.smi\"\n",
    "output_sdf = \"output_molecules4.pdbqt\"\n",
    "\n",
    "converter = openbabel.OBConversion()\n",
    "converter.SetInAndOutFormats(\"sdf\", \"pdbqt\")\n",
    "\n",
    "# Desired pH\n",
    "pH = 7.0\n",
    "\n",
    "# Open the output file\n",
    "with open(output_sdf, \"w\") as outfile:\n",
    "    # Read molecules from the SDF file\n",
    "    for mol in pybel.readfile(\"smi\", input_smi):\n",
    "        # Convert to OBMol for direct manipulation\n",
    "        obmol = mol.OBMol\n",
    "\n",
    "        # Adjust hydrogens at the specified pH\n",
    "        obmol.AddHydrogens(False, True, pH)\n",
    "    \n",
    "        # Convert the adjusted molecule back to Pybel format\n",
    "        adjusted_mol = pybel.Molecule(obmol)\n",
    "\n",
    "        adjusted_mol.make3D()\n",
    "\n",
    "        # Write output\n",
    "        outfile.write(adjusted_mol.write(\"pdbqt\"))\n"
   ]
  },
  {
   "cell_type": "code",
   "execution_count": null,
   "metadata": {},
   "outputs": [],
   "source": [
    "import ringtail as rtc\n",
    "from joblib import Parallel, delayed\n",
    "from rdkit import Chem\n",
    "from meeko import MoleculePreparation, PDBQTWriterLegacy\n",
    "from vina import Vina\n",
    "from openbabel import openbabel, pybel\n",
    "from re import split, sub, MULTILINE"
   ]
  },
  {
   "cell_type": "code",
   "execution_count": 4,
   "metadata": {},
   "outputs": [],
   "source": [
    "# Ligand library file in .sdf format.\n",
    "sdf_file = \"Data/ligands_10.sdf\"\n",
    "\n",
    "# Ligand library file in .smi format.\n",
    "smi_file = \"Data/ligands_10.smi\"\n",
    "smi_file_no_header = \"Data/ligands_10_2.smi\"\n",
    "\n",
    "suppl = Chem.SDMolSupplier(sdf_file) # SDMolSupplier is an iterator. There's also an experimental 'MultithreadedSDMolSupplier' that may be faster.\n",
    "suppl2 = Chem.SmilesMolSupplier(smi_file, delimiter=\"\\t\") # Iterator for the .smi ligand file.\n",
    "# NOTE: Suspicion is that the pybel.readfile() iterator causes the pickling issue with joblib.\n",
    "suppl4 = pybel.readfile(\"smi\", smi_file_no_header) # Test pybel iterator for the ligand batching."
   ]
  },
  {
   "cell_type": "code",
   "execution_count": null,
   "metadata": {},
   "outputs": [],
   "source": [
    "# Text mol name extraction from rdkit mol object \n",
    "\n",
    "suppl2 = Chem.SmilesMolSupplier(smi_file, delimiter=\"\\t\") # Iterator for the .smi ligand file.\n",
    "preparator = MoleculePreparation()\n",
    "\n",
    "for mol in suppl2:\n",
    "\n",
    "    mol_name = mol.GetProp('_Name')\n",
    "\n",
    "    mol = Chem.AddHs(mol)\n",
    "    Chem.rdDistGeom.EmbedMolecule(mol)\n",
    "      \n",
    "    mol_setups = preparator.prepare(mol)\n",
    "    for setup in mol_setups:\n",
    "        pdbqt_string, is_ok, error_msg = PDBQTWriterLegacy.write_string(setup)\n",
    "        if is_ok:\n",
    "            modified_pdbqt = f\"REMARK Name = {mol_name.strip()}\\n{pdbqt_string}\"\n",
    "            print(modified_pdbqt)"
   ]
  },
  {
   "cell_type": "code",
   "execution_count": null,
   "metadata": {},
   "outputs": [],
   "source": [
    "with open(smi_file_no_header, \"r\") as f:\n",
    "        for line in f:\n",
    "            parts = line.strip().split(\"\\t\")\n",
    "            if len(parts) >= 2:  # Ensure the line has both SMILES and name.\n",
    "                smiles, mol_name = line, parts[1]\n",
    "                print((smiles, mol_name))  # Append a tuple of SMILES and name."
   ]
  },
  {
   "cell_type": "code",
   "execution_count": null,
   "metadata": {},
   "outputs": [],
   "source": [
    "# OK\n",
    "preparator = MoleculePreparation()\n",
    "\n",
    "for mol in suppl2:\n",
    "\n",
    "    mol = Chem.AddHs(mol)\n",
    "    Chem.rdDistGeom.EmbedMolecule(mol)\n",
    "        \n",
    "    mol_setups = preparator.prepare(mol)\n",
    "    for setup in mol_setups:\n",
    "        pdbqt_string, is_ok, error_msg = PDBQTWriterLegacy.write_string(setup)\n",
    "        if is_ok:\n",
    "            print(pdbqt_string)"
   ]
  },
  {
   "cell_type": "code",
   "execution_count": null,
   "metadata": {},
   "outputs": [],
   "source": [
    "# OK\n",
    "preparator = MoleculePreparation()\n",
    "\n",
    "for mol in suppl2:\n",
    "\n",
    "    mol = Chem.AddHs(mol)\n",
    "    Chem.rdDistGeom.EmbedMolecule(mol)\n",
    "        \n",
    "    mol_setups = preparator.prepare(mol)\n",
    "    for setup in mol_setups:\n",
    "        pdbqt_string, is_ok, error_msg = PDBQTWriterLegacy.write_string(setup)\n",
    "        if is_ok:\n",
    "            print(pdbqt_string)"
   ]
  },
  {
   "cell_type": "code",
   "execution_count": null,
   "metadata": {},
   "outputs": [],
   "source": [
    "preparator = MoleculePreparation()\n",
    "\n",
    "for mol in pybel.readfile(\"smi\", smi_file_no_header):\n",
    "\n",
    "    obmol = mol.OBMol\n",
    "\n",
    "    # Add hydrogens and consider protonation states.\n",
    "    # AddHydrogen() params: (bool polaronly=false, bool correctForPH=false, double pH=7.4)\n",
    "    obmol.AddHydrogens(False, False, 7.4)\n",
    "\n",
    "    # Convert the Open Babel molecule back to pybel molecule.\n",
    "    mol = pybel.Molecule(obmol)\n",
    "\n",
    "    mol.make3D()\n",
    "    #mol.localopt() # Coordinate improvement.\n",
    "\n",
    "    pybel_string = mol.write(format = \"pdbqt\")\n",
    "\n",
    "    print(pybel_string)"
   ]
  },
  {
   "cell_type": "code",
   "execution_count": null,
   "metadata": {},
   "outputs": [],
   "source": [
    "from re import split, sub, MULTILINE\n",
    "\n",
    "suppl4 = pybel.readfile(\"smi\", smi_file_no_header)\n",
    "\n",
    "for mol in suppl4:\n",
    "    smiles_string = split(\"\\t\", mol.write(format = \"smi\"))[0]\n",
    "    mol_name = split(\"\\t\", mol.write(format = \"smi\"))[1]\n",
    "    obmol = mol.OBMol\n",
    "    \n",
    "    # Add hydrogens and consider protonation states\n",
    "    obmol.AddHydrogens(False, False, 7.4)\n",
    "    \n",
    "    # Convert the Open Babel molecule back to pybel molecule\n",
    "    mol = pybel.Molecule(obmol)\n",
    "    mol.make3D()\n",
    "    \n",
    "    # Write PDBQT and insert custom REMARK fields\n",
    "    pybel_string = mol.write(format = \"pdbqt\")\n",
    "    # modified_pdbqt = f\"REMARK  Name = {mol_name.strip()}\\nREMARK  SMILES = {smiles_string.strip()}\\n{pybel_string}\"\n",
    "    modified_pdbqt = f\"REMARK  SMILES = {smiles_string.strip()}\\n{pybel_string}\"\n",
    "    modified_pdbqt = sub(r'^REMARK\\s+Name\\s*=.*$', f'REMARK Name = {mol_name.strip()}', modified_pdbqt, flags=MULTILINE) # Replaces the Name remark with the molecule name.\n",
    "    print(modified_pdbqt)"
   ]
  },
  {
   "cell_type": "code",
   "execution_count": 127,
   "metadata": {},
   "outputs": [],
   "source": [
    "def molecule_prep2(idx, mol):\n",
    "    try:\n",
    "        # Convert the pybel molecule to Open Babel molecule.\n",
    "        obmol = smiles_to_obmol(mol)\n",
    "\n",
    "        # Add hydrogens and consider protonation states.\n",
    "        obmol.AddHydrogens(False, True, 7.4)\n",
    "\n",
    "        # Convert the Open Babel molecule back to pybel molecule.\n",
    "        mol = pybel.Molecule(obmol)\n",
    "\n",
    "        mol.make3D()\n",
    "\n",
    "        return idx, mol.write(format = \"pdbqt\")\n",
    "    except Exception as e:\n",
    "        return idx, None, str(e)"
   ]
  },
  {
   "cell_type": "code",
   "execution_count": 124,
   "metadata": {},
   "outputs": [],
   "source": [
    "from openbabel import pybel\n",
    "from openbabel import openbabel\n",
    "\n",
    "def smiles_to_obmol(smiles_string):\n",
    "    # Create an OpenBabel conversion object\n",
    "    obConversion = openbabel.OBConversion()\n",
    "    obConversion.SetInAndOutFormats(\"smi\", \"mol\")\n",
    "    \n",
    "    # Create an OBMol object\n",
    "    obmol = openbabel.OBMol()\n",
    "    \n",
    "    # Convert SMILES to OBMol\n",
    "    obConversion.ReadString(obmol, smiles_string)\n",
    "    \n",
    "    return obmol"
   ]
  },
  {
   "cell_type": "code",
   "execution_count": null,
   "metadata": {},
   "outputs": [],
   "source": [
    "batch = []\n",
    "suppl4 = pybel.readfile(\"smi\", smi_file_no_header)\n",
    "for idx, mol in enumerate(suppl4):\n",
    "    if mol is not None:\n",
    "\n",
    "\n",
    "        batch.append(mol.write(format = \"smi\"))\n",
    "\n",
    "    if len(batch) == 10:\n",
    "\n",
    "        converted_batch = Parallel(n_jobs=2)(\n",
    "            delayed(molecule_prep2)(idx, mol) # Delayed call for molecule_prep2() once below evaluation to done.\n",
    "            for idx, mol in enumerate(batch)\n",
    "            if mol is not None\n",
    "        )"
   ]
  },
  {
   "cell_type": "code",
   "execution_count": null,
   "metadata": {},
   "outputs": [],
   "source": [
    "# Extracting the SMILES string from the rdkit mol object\n",
    "smiles_string = Chem.MolToSmiles(mol)"
   ]
  },
  {
   "cell_type": "code",
   "execution_count": null,
   "metadata": {},
   "outputs": [],
   "source": [
    "pybel.informats"
   ]
  },
  {
   "cell_type": "code",
   "execution_count": 3,
   "metadata": {},
   "outputs": [],
   "source": [
    "from scrubber import Scrub\n",
    "from rdkit import Chem"
   ]
  },
  {
   "cell_type": "code",
   "execution_count": null,
   "metadata": {},
   "outputs": [],
   "source": [
    "scrub = Scrub(ph_low = 2, ph_high = 11)\n",
    "\n",
    "smiles_list = [\n",
    "    \"CCCCCSCC[N+](C)(C)C.[Br-]\",\n",
    "]\n",
    "\n",
    "# mol = Chem.MolFromSmiles(\"Clc1c(OCCC3)c3ccc1C(=O)Nc2nc[nH]c2\")\n",
    "\n",
    "mol_states = [scrub(Chem.MolFromSmiles(\"COC(CN)CN1CCCC1\"))]\n",
    "\n",
    "for smiles in smiles_list:\n",
    "    for mol_state in scrub(Chem.MolFromSmiles(smiles)):\n",
    "        print(\"SMILES: \", smiles, Chem.MolToSmiles(mol_state), \"Conformers: %d\" % mol_state.GetNumConformers())"
   ]
  },
  {
   "cell_type": "code",
   "execution_count": 56,
   "metadata": {},
   "outputs": [
    {
     "ename": "RuntimeError",
     "evalue": "{'INITIAL_COORDS': 42, 'FIRST_MINIMIZATION': 2, 'CHECK_TETRAHEDRAL_CENTERS': 256}",
     "output_type": "error",
     "traceback": [
      "\u001b[0;31m---------------------------------------------------------------------------\u001b[0m",
      "\u001b[0;31mRuntimeError\u001b[0m                              Traceback (most recent call last)",
      "Cell \u001b[0;32mIn[56], line 15\u001b[0m\n\u001b[1;32m     12\u001b[0m variants \u001b[38;5;241m=\u001b[39m []\n\u001b[1;32m     14\u001b[0m \u001b[38;5;66;03m# Scrubber handles protonation states, 3D coordinates, and tautomers.\u001b[39;00m\n\u001b[0;32m---> 15\u001b[0m \u001b[38;5;28;01mfor\u001b[39;00m mol_index, mol_state \u001b[38;5;129;01min\u001b[39;00m \u001b[38;5;28menumerate\u001b[39m(\u001b[43mscrub\u001b[49m\u001b[43m(\u001b[49m\u001b[43mmol\u001b[49m\u001b[43m)\u001b[49m):\n\u001b[1;32m     16\u001b[0m     variant_mol_name \u001b[38;5;241m=\u001b[39m \u001b[38;5;124mf\u001b[39m\u001b[38;5;124m\"\u001b[39m\u001b[38;5;132;01m{\u001b[39;00mmol_name\u001b[38;5;132;01m}\u001b[39;00m\u001b[38;5;124m-\u001b[39m\u001b[38;5;132;01m{\u001b[39;00mmol_index\u001b[38;5;132;01m}\u001b[39;00m\u001b[38;5;124m\"\u001b[39m\n\u001b[1;32m     18\u001b[0m     mol_setups \u001b[38;5;241m=\u001b[39m preparator\u001b[38;5;241m.\u001b[39mprepare(mol_state)\n",
      "File \u001b[0;32m~/github/molscrub/scrubber/core.py:554\u001b[0m, in \u001b[0;36mScrub.__call__\u001b[0;34m(self, input_mol)\u001b[0m\n\u001b[1;32m    552\u001b[0m     output_mol_list \u001b[38;5;241m=\u001b[39m []\n\u001b[1;32m    553\u001b[0m     \u001b[38;5;28;01mfor\u001b[39;00m mol \u001b[38;5;129;01min\u001b[39;00m pool:\n\u001b[0;32m--> 554\u001b[0m         mol_out \u001b[38;5;241m=\u001b[39m \u001b[43mgen3d\u001b[49m\u001b[43m(\u001b[49m\n\u001b[1;32m    555\u001b[0m \u001b[43m            \u001b[49m\u001b[43mmol\u001b[49m\u001b[43m,\u001b[49m\n\u001b[1;32m    556\u001b[0m \u001b[43m            \u001b[49m\u001b[43mskip_ringfix\u001b[49m\u001b[38;5;241;43m=\u001b[39;49m\u001b[38;5;28;43mself\u001b[39;49m\u001b[38;5;241;43m.\u001b[39;49m\u001b[43mskip_ringfix\u001b[49m\u001b[43m,\u001b[49m\n\u001b[1;32m    557\u001b[0m \u001b[43m            \u001b[49m\u001b[43mmax_ff_iter\u001b[49m\u001b[38;5;241;43m=\u001b[39;49m\u001b[38;5;28;43mself\u001b[39;49m\u001b[38;5;241;43m.\u001b[39;49m\u001b[43mmax_ff_iter\u001b[49m\u001b[43m,\u001b[49m\n\u001b[1;32m    558\u001b[0m \u001b[43m            \u001b[49m\u001b[43metkdg_rng_seed\u001b[49m\u001b[38;5;241;43m=\u001b[39;49m\u001b[38;5;28;43mself\u001b[39;49m\u001b[38;5;241;43m.\u001b[39;49m\u001b[43metkdg_rng_seed\u001b[49m\u001b[43m,\u001b[49m\n\u001b[1;32m    559\u001b[0m \u001b[43m            \u001b[49m\u001b[43mnumconfs\u001b[49m\u001b[38;5;241;43m=\u001b[39;49m\u001b[38;5;28;43mself\u001b[39;49m\u001b[38;5;241;43m.\u001b[39;49m\u001b[43mnumconfs\u001b[49m\u001b[43m,\u001b[49m\n\u001b[1;32m    560\u001b[0m \u001b[43m            \u001b[49m\u001b[43mff\u001b[49m\u001b[38;5;241;43m=\u001b[39;49m\u001b[38;5;28;43mself\u001b[39;49m\u001b[38;5;241;43m.\u001b[39;49m\u001b[43mff\u001b[49m\u001b[43m,\u001b[49m\n\u001b[1;32m    561\u001b[0m \u001b[43m            \u001b[49m\u001b[43mespaloma\u001b[49m\u001b[38;5;241;43m=\u001b[39;49m\u001b[38;5;28;43mself\u001b[39;49m\u001b[38;5;241;43m.\u001b[39;49m\u001b[43mespaloma\u001b[49m\u001b[43m,\u001b[49m\n\u001b[1;32m    562\u001b[0m \u001b[43m            \u001b[49m\u001b[43mtemplate\u001b[49m\u001b[38;5;241;43m=\u001b[39;49m\u001b[38;5;28;43mself\u001b[39;49m\u001b[38;5;241;43m.\u001b[39;49m\u001b[43mtemplate\u001b[49m\u001b[43m,\u001b[49m\n\u001b[1;32m    563\u001b[0m \u001b[43m            \u001b[49m\u001b[43mtemplate_smarts\u001b[49m\u001b[38;5;241;43m=\u001b[39;49m\u001b[38;5;28;43mself\u001b[39;49m\u001b[38;5;241;43m.\u001b[39;49m\u001b[43mtemplate_smarts\u001b[49m\u001b[43m,\u001b[49m\n\u001b[1;32m    564\u001b[0m \u001b[43m        \u001b[49m\u001b[43m)\u001b[49m\n\u001b[1;32m    565\u001b[0m         output_mol_list\u001b[38;5;241m.\u001b[39mappend(mol_out)\n\u001b[1;32m    566\u001b[0m \u001b[38;5;28;01melif\u001b[39;00m \u001b[38;5;28mself\u001b[39m\u001b[38;5;241m.\u001b[39mdo_gen2d:  \u001b[38;5;66;03m# useful to write SD files\u001b[39;00m\n",
      "File \u001b[0;32m~/github/molscrub/scrubber/core.py:739\u001b[0m, in \u001b[0;36mgen3d\u001b[0;34m(mol, skip_ringfix, max_ff_iter, etkdg_rng_seed, numconfs, ff, espaloma, template, template_smarts)\u001b[0m\n\u001b[1;32m    736\u001b[0m     cids \u001b[38;5;241m=\u001b[39m rdDistGeom\u001b[38;5;241m.\u001b[39mEmbedMultipleConfs(mol, numconfs, ps)\n\u001b[1;32m    738\u001b[0m \u001b[38;5;28;01mif\u001b[39;00m \u001b[38;5;28mlen\u001b[39m(cids) \u001b[38;5;241m==\u001b[39m \u001b[38;5;241m0\u001b[39m:\n\u001b[0;32m--> 739\u001b[0m     \u001b[43mtranslate_failures\u001b[49m\u001b[43m(\u001b[49m\u001b[43mps\u001b[49m\u001b[38;5;241;43m.\u001b[39;49m\u001b[43mGetFailureCounts\u001b[49m\u001b[43m(\u001b[49m\u001b[43m)\u001b[49m\u001b[43m)\u001b[49m\n\u001b[1;32m    741\u001b[0m etkdg_coords \u001b[38;5;241m=\u001b[39m [c\u001b[38;5;241m.\u001b[39mGetPositions() \u001b[38;5;28;01mfor\u001b[39;00m c \u001b[38;5;129;01min\u001b[39;00m mol\u001b[38;5;241m.\u001b[39mGetConformers()]\n\u001b[1;32m    743\u001b[0m mol\u001b[38;5;241m.\u001b[39mRemoveAllConformers()  \u001b[38;5;66;03m# to be added back after ringfix\u001b[39;00m\n",
      "File \u001b[0;32m~/github/molscrub/scrubber/core.py:697\u001b[0m, in \u001b[0;36mtranslate_failures\u001b[0;34m(failure_counts)\u001b[0m\n\u001b[1;32m    694\u001b[0m         \u001b[38;5;28;01mif\u001b[39;00m failure_counts[i] \u001b[38;5;241m!=\u001b[39m \u001b[38;5;241m0\u001b[39m:\n\u001b[1;32m    695\u001b[0m             failure_msgs[k] \u001b[38;5;241m=\u001b[39m failure_counts[i]\n\u001b[0;32m--> 697\u001b[0m     \u001b[38;5;28;01mraise\u001b[39;00m \u001b[38;5;167;01mRuntimeError\u001b[39;00m(failure_msgs)\n\u001b[1;32m    698\u001b[0m \u001b[38;5;28;01melse\u001b[39;00m:\n\u001b[1;32m    699\u001b[0m     \u001b[38;5;28;01mreturn\u001b[39;00m \u001b[38;5;28;01mNone\u001b[39;00m\n",
      "\u001b[0;31mRuntimeError\u001b[0m: {'INITIAL_COORDS': 42, 'FIRST_MINIMIZATION': 2, 'CHECK_TETRAHEDRAL_CENTERS': 256}"
     ]
    }
   ],
   "source": [
    "mol = Chem.MolFromSmiles(\"C=CCN1CC23CCC2(COC3)C1\")\n",
    "mol_name = \"mol1\"\n",
    "if mol is None:\n",
    "    raise ValueError(f\"Invalid SMILES string: {smiles}\")\n",
    "\n",
    "# Assign the molecule name to the RDKit object.\n",
    "mol.SetProp('_Name', mol_name)\n",
    "\n",
    "# Prepare the ligand with Meeko.\n",
    "preparator = MoleculePreparation()\n",
    "\n",
    "variants = []\n",
    "\n",
    "# Scrubber handles protonation states, 3D coordinates, and tautomers.\n",
    "for mol_index, mol_state in enumerate(scrub(mol)):\n",
    "    variant_mol_name = f\"{mol_name}-{mol_index}\"\n",
    "    \n",
    "    mol_setups = preparator.prepare(mol_state)\n",
    "\n",
    "    for setup in mol_setups:\n",
    "        pdbqt_string, is_ok, error_msg = PDBQTWriterLegacy.write_string(setup)\n",
    "        if is_ok:\n",
    "            modified_pdbqt = f\"REMARK Name = {variant_mol_name.strip()}\\n{pdbqt_string}\"\n",
    "            variants.append((variant_mol_name, modified_pdbqt))\n",
    "print(variants)"
   ]
  },
  {
   "cell_type": "code",
   "execution_count": 55,
   "metadata": {},
   "outputs": [
    {
     "name": "stdout",
     "output_type": "stream",
     "text": [
      "1\n"
     ]
    }
   ],
   "source": [
    "from rdkit.Chem import AllChem as Chem\n",
    "\n",
    "\n",
    "smiles = \"C=CCN1CC23CCC2(COC3)C1\"\n",
    "\n",
    "mol = Chem.MolFromSmiles(smiles)\n",
    "\n",
    "fragments = Chem.GetMolFrags(mol, asMols=True)\n",
    "\n",
    "print(len(fragments))\n",
    "\n",
    "# print(Chem.MolToSmiles(fragments[0]))\n",
    "# main_fragment = max(fragments, key=lambda m: m.GetNumAtoms())\n",
    "# print(Chem.MolToSmiles(main_fragment))"
   ]
  },
  {
   "cell_type": "code",
   "execution_count": null,
   "metadata": {},
   "outputs": [],
   "source": []
  }
 ],
 "metadata": {
  "kernelspec": {
   "display_name": "ringtail",
   "language": "python",
   "name": "python3"
  },
  "language_info": {
   "codemirror_mode": {
    "name": "ipython",
    "version": 3
   },
   "file_extension": ".py",
   "mimetype": "text/x-python",
   "name": "python",
   "nbconvert_exporter": "python",
   "pygments_lexer": "ipython3",
   "version": "3.10.16"
  }
 },
 "nbformat": 4,
 "nbformat_minor": 2
}
