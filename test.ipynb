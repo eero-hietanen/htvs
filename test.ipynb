{
 "cells": [
  {
   "cell_type": "code",
   "execution_count": null,
   "metadata": {},
   "outputs": [],
   "source": [
    "from meeko import MoleculePreparation\n",
    "from vina import Vina\n",
    "from rdkit import Chem\n",
    "from meeko import PDBQTMolecule\n",
    "from meeko import PDBQTWriterLegacy"
   ]
  },
  {
   "cell_type": "code",
   "execution_count": null,
   "metadata": {},
   "outputs": [],
   "source": [
    "v = Vina(sf_name='vina', cpu=8)\n",
    "v.set_receptor('Data/9f6a.pdbqt')\n",
    "v.set_ligand_from_file('Data/lig-1.pdbqt')\n",
    "\n",
    "docking_box = {\"center\": [136.733, 172.819, 99.189], \"box_size\": [11.69, 7.09, 7.60]}\n",
    "v.compute_vina_maps(**docking_box)\n",
    "\n",
    "v.dock(exhaustiveness=8, n_poses=5)"
   ]
  },
  {
   "cell_type": "code",
   "execution_count": 4,
   "metadata": {},
   "outputs": [],
   "source": [
    "preparator = MoleculePreparation()"
   ]
  },
  {
   "cell_type": "code",
   "execution_count": null,
   "metadata": {},
   "outputs": [],
   "source": [
    "test_lig = Chem.SDMolSupplier('Data/ligands.sdf')[0]\n",
    "test_lig"
   ]
  },
  {
   "cell_type": "code",
   "execution_count": 85,
   "metadata": {},
   "outputs": [],
   "source": [
    "test_lig = Chem.AddHs(test_lig)"
   ]
  },
  {
   "cell_type": "code",
   "execution_count": null,
   "metadata": {},
   "outputs": [],
   "source": [
    "Chem.rdDistGeom.EmbedMolecule(test_lig)"
   ]
  },
  {
   "cell_type": "code",
   "execution_count": null,
   "metadata": {},
   "outputs": [],
   "source": [
    "test_lig"
   ]
  },
  {
   "cell_type": "code",
   "execution_count": 88,
   "metadata": {},
   "outputs": [],
   "source": [
    "mol_setups = preparator.prepare(test_lig)"
   ]
  },
  {
   "cell_type": "code",
   "execution_count": null,
   "metadata": {},
   "outputs": [],
   "source": [
    "for setup in mol_setups:\n",
    "    pdbqt_string, is_ok, error_msg = PDBQTWriterLegacy.write_string(setup)\n",
    "    if is_ok:\n",
    "        print(pdbqt_string, end = \"\")"
   ]
  },
  {
   "cell_type": "code",
   "execution_count": 91,
   "metadata": {},
   "outputs": [],
   "source": [
    "ligands = Chem.SDMolSupplier('Data/ligands.sdf')"
   ]
  },
  {
   "cell_type": "code",
   "execution_count": null,
   "metadata": {},
   "outputs": [],
   "source": [
    "len(ligands)"
   ]
  },
  {
   "cell_type": "code",
   "execution_count": null,
   "metadata": {},
   "outputs": [],
   "source": [
    "for i, mol in enumerate(ligands):\n",
    "    if mol is None:\n",
    "        continue\n",
    "    if i >= 100:\n",
    "        break\n",
    "    print(ligands[i].GetProp('_Name'))"
   ]
  },
  {
   "cell_type": "code",
   "execution_count": null,
   "metadata": {},
   "outputs": [],
   "source": [
    "from rdkit.Chem import SDMolSupplier\n",
    " \n",
    "def process_ligands_in_batches(input_sdf_file, batch_size):\n",
    "    suppl = SDMolSupplier(input_sdf_file)\n",
    " \n",
    "    batch = []\n",
    "    for idx, mol in enumerate(suppl):\n",
    "        if mol is not None:\n",
    "            batch.append(mol)\n",
    " \n",
    "        # Process and flush the batch when the batch size is reached\n",
    "        if len(batch) == batch_size:\n",
    "            process_batch(batch, idx // batch_size)\n",
    "            batch.clear()  # Clear the batch after processing\n",
    " \n",
    "    # Process any remaining ligands in the final batch\n",
    "    if batch:\n",
    "        process_batch(batch, idx // batch_size)\n",
    " \n",
    "def process_batch(batch, batch_idx):\n",
    "    # Convert batch to PDBQT or perform docking in a single step\n",
    "    print(f\"Processing batch {batch_idx + 1} with {len(batch)} ligands.\")\n",
    "    # Replace with actual conversion and docking logic\n",
    " \n",
    "# Example usage\n",
    "input_sdf_file = 'ligands.sdf'\n",
    "batch_size = 100  # Adjust batch size for performance and memory\n",
    " \n",
    "process_ligands_in_batches(input_sdf_file, batch_size)"
   ]
  },
  {
   "cell_type": "code",
   "execution_count": 11,
   "metadata": {},
   "outputs": [],
   "source": [
    "import os"
   ]
  },
  {
   "cell_type": "code",
   "execution_count": 12,
   "metadata": {},
   "outputs": [],
   "source": [
    "if not os.path.exists('Output'):\n",
    "    os.makedirs('Output')"
   ]
  },
  {
   "cell_type": "code",
   "execution_count": 8,
   "metadata": {},
   "outputs": [],
   "source": [
    "from openbabel import pybel\n",
    "from openbabel import openbabel"
   ]
  },
  {
   "cell_type": "code",
   "execution_count": null,
   "metadata": {},
   "outputs": [],
   "source": [
    "mol_iter = pybel.readfile(filename = 'Data/ligands_10.sdf', format = 'sdf')"
   ]
  },
  {
   "cell_type": "code",
   "execution_count": null,
   "metadata": {},
   "outputs": [],
   "source": [
    "type(mol_iter)"
   ]
  },
  {
   "cell_type": "code",
   "execution_count": null,
   "metadata": {},
   "outputs": [],
   "source": [
    "for mol in mol_iter:\n",
    "    print(mol.molwt)"
   ]
  },
  {
   "cell_type": "code",
   "execution_count": 17,
   "metadata": {},
   "outputs": [],
   "source": [
    "from openbabel import openbabel\n",
    "from openbabel import pybel\n",
    "\n",
    "# Input and output file paths\n",
    "input_smi = \"Data/ligands_10_2.smi\"\n",
    "output_sdf = \"output_molecules4.pdbqt\"\n",
    "\n",
    "converter = openbabel.OBConversion()\n",
    "converter.SetInAndOutFormats(\"sdf\", \"pdbqt\")\n",
    "\n",
    "# Desired pH\n",
    "pH = 7.0\n",
    "\n",
    "# Open the output file\n",
    "with open(output_sdf, \"w\") as outfile:\n",
    "    # Read molecules from the SDF file\n",
    "    for mol in pybel.readfile(\"smi\", input_smi):\n",
    "        # Convert to OBMol for direct manipulation\n",
    "        obmol = mol.OBMol\n",
    "\n",
    "        # Adjust hydrogens at the specified pH\n",
    "        obmol.AddHydrogens(False, True, pH)\n",
    "    \n",
    "        # Convert the adjusted molecule back to Pybel format\n",
    "        adjusted_mol = pybel.Molecule(obmol)\n",
    "\n",
    "        adjusted_mol.make3D()\n",
    "\n",
    "        # Write output\n",
    "        outfile.write(adjusted_mol.write(\"pdbqt\"))\n"
   ]
  },
  {
   "cell_type": "code",
   "execution_count": null,
   "metadata": {},
   "outputs": [],
   "source": [
    "import ringtail as rtc\n",
    "from joblib import Parallel, delayed\n",
    "from rdkit import Chem\n",
    "from meeko import MoleculePreparation, PDBQTWriterLegacy\n",
    "from vina import Vina\n",
    "from openbabel import openbabel, pybel\n",
    "from re import split, sub, MULTILINE"
   ]
  },
  {
   "cell_type": "code",
   "execution_count": 4,
   "metadata": {},
   "outputs": [],
   "source": [
    "# Ligand library file in .sdf format.\n",
    "sdf_file = \"Data/ligands_10.sdf\"\n",
    "\n",
    "# Ligand library file in .smi format.\n",
    "smi_file = \"Data/ligands_10.smi\"\n",
    "smi_file_no_header = \"Data/ligands_10_2.smi\"\n",
    "\n",
    "suppl = Chem.SDMolSupplier(sdf_file) # SDMolSupplier is an iterator. There's also an experimental 'MultithreadedSDMolSupplier' that may be faster.\n",
    "suppl2 = Chem.SmilesMolSupplier(smi_file, delimiter=\"\\t\") # Iterator for the .smi ligand file.\n",
    "# NOTE: Suspicion is that the pybel.readfile() iterator causes the pickling issue with joblib.\n",
    "suppl4 = pybel.readfile(\"smi\", smi_file_no_header) # Test pybel iterator for the ligand batching."
   ]
  },
  {
   "cell_type": "code",
   "execution_count": null,
   "metadata": {},
   "outputs": [],
   "source": [
    "# Text mol name extraction from rdkit mol object \n",
    "\n",
    "suppl2 = Chem.SmilesMolSupplier(smi_file, delimiter=\"\\t\") # Iterator for the .smi ligand file.\n",
    "preparator = MoleculePreparation()\n",
    "\n",
    "for mol in suppl2:\n",
    "\n",
    "    mol_name = mol.GetProp('_Name')\n",
    "\n",
    "    mol = Chem.AddHs(mol)\n",
    "    Chem.rdDistGeom.EmbedMolecule(mol)\n",
    "      \n",
    "    mol_setups = preparator.prepare(mol)\n",
    "    for setup in mol_setups:\n",
    "        pdbqt_string, is_ok, error_msg = PDBQTWriterLegacy.write_string(setup)\n",
    "        if is_ok:\n",
    "            modified_pdbqt = f\"REMARK Name = {mol_name.strip()}\\n{pdbqt_string}\"\n",
    "            print(modified_pdbqt)"
   ]
  },
  {
   "cell_type": "code",
   "execution_count": null,
   "metadata": {},
   "outputs": [],
   "source": [
    "with open(smi_file_no_header, \"r\") as f:\n",
    "        for line in f:\n",
    "            parts = line.strip().split(\"\\t\")\n",
    "            if len(parts) >= 2:  # Ensure the line has both SMILES and name.\n",
    "                smiles, mol_name = line, parts[1]\n",
    "                print((smiles, mol_name))  # Append a tuple of SMILES and name."
   ]
  },
  {
   "cell_type": "code",
   "execution_count": null,
   "metadata": {},
   "outputs": [],
   "source": [
    "# OK\n",
    "preparator = MoleculePreparation()\n",
    "\n",
    "for mol in suppl2:\n",
    "\n",
    "    mol = Chem.AddHs(mol)\n",
    "    Chem.rdDistGeom.EmbedMolecule(mol)\n",
    "        \n",
    "    mol_setups = preparator.prepare(mol)\n",
    "    for setup in mol_setups:\n",
    "        pdbqt_string, is_ok, error_msg = PDBQTWriterLegacy.write_string(setup)\n",
    "        if is_ok:\n",
    "            print(pdbqt_string)"
   ]
  },
  {
   "cell_type": "code",
   "execution_count": null,
   "metadata": {},
   "outputs": [],
   "source": [
    "# OK\n",
    "preparator = MoleculePreparation()\n",
    "\n",
    "for mol in suppl2:\n",
    "\n",
    "    mol = Chem.AddHs(mol)\n",
    "    Chem.rdDistGeom.EmbedMolecule(mol)\n",
    "        \n",
    "    mol_setups = preparator.prepare(mol)\n",
    "    for setup in mol_setups:\n",
    "        pdbqt_string, is_ok, error_msg = PDBQTWriterLegacy.write_string(setup)\n",
    "        if is_ok:\n",
    "            print(pdbqt_string)"
   ]
  },
  {
   "cell_type": "code",
   "execution_count": null,
   "metadata": {},
   "outputs": [],
   "source": [
    "preparator = MoleculePreparation()\n",
    "\n",
    "for mol in pybel.readfile(\"smi\", smi_file_no_header):\n",
    "\n",
    "    obmol = mol.OBMol\n",
    "\n",
    "    # Add hydrogens and consider protonation states.\n",
    "    # AddHydrogen() params: (bool polaronly=false, bool correctForPH=false, double pH=7.4)\n",
    "    obmol.AddHydrogens(False, False, 7.4)\n",
    "\n",
    "    # Convert the Open Babel molecule back to pybel molecule.\n",
    "    mol = pybel.Molecule(obmol)\n",
    "\n",
    "    mol.make3D()\n",
    "    #mol.localopt() # Coordinate improvement.\n",
    "\n",
    "    pybel_string = mol.write(format = \"pdbqt\")\n",
    "\n",
    "    print(pybel_string)"
   ]
  },
  {
   "cell_type": "code",
   "execution_count": null,
   "metadata": {},
   "outputs": [],
   "source": [
    "from re import split, sub, MULTILINE\n",
    "\n",
    "suppl4 = pybel.readfile(\"smi\", smi_file_no_header)\n",
    "\n",
    "for mol in suppl4:\n",
    "    smiles_string = split(\"\\t\", mol.write(format = \"smi\"))[0]\n",
    "    mol_name = split(\"\\t\", mol.write(format = \"smi\"))[1]\n",
    "    obmol = mol.OBMol\n",
    "    \n",
    "    # Add hydrogens and consider protonation states\n",
    "    obmol.AddHydrogens(False, False, 7.4)\n",
    "    \n",
    "    # Convert the Open Babel molecule back to pybel molecule\n",
    "    mol = pybel.Molecule(obmol)\n",
    "    mol.make3D()\n",
    "    \n",
    "    # Write PDBQT and insert custom REMARK fields\n",
    "    pybel_string = mol.write(format = \"pdbqt\")\n",
    "    # modified_pdbqt = f\"REMARK  Name = {mol_name.strip()}\\nREMARK  SMILES = {smiles_string.strip()}\\n{pybel_string}\"\n",
    "    modified_pdbqt = f\"REMARK  SMILES = {smiles_string.strip()}\\n{pybel_string}\"\n",
    "    modified_pdbqt = sub(r'^REMARK\\s+Name\\s*=.*$', f'REMARK Name = {mol_name.strip()}', modified_pdbqt, flags=MULTILINE) # Replaces the Name remark with the molecule name.\n",
    "    print(modified_pdbqt)"
   ]
  },
  {
   "cell_type": "code",
   "execution_count": 127,
   "metadata": {},
   "outputs": [],
   "source": [
    "def molecule_prep2(idx, mol):\n",
    "    try:\n",
    "        # Convert the pybel molecule to Open Babel molecule.\n",
    "        obmol = smiles_to_obmol(mol)\n",
    "\n",
    "        # Add hydrogens and consider protonation states.\n",
    "        obmol.AddHydrogens(False, True, 7.4)\n",
    "\n",
    "        # Convert the Open Babel molecule back to pybel molecule.\n",
    "        mol = pybel.Molecule(obmol)\n",
    "\n",
    "        mol.make3D()\n",
    "\n",
    "        return idx, mol.write(format = \"pdbqt\")\n",
    "    except Exception as e:\n",
    "        return idx, None, str(e)"
   ]
  },
  {
   "cell_type": "code",
   "execution_count": 124,
   "metadata": {},
   "outputs": [],
   "source": [
    "from openbabel import pybel\n",
    "from openbabel import openbabel\n",
    "\n",
    "def smiles_to_obmol(smiles_string):\n",
    "    # Create an OpenBabel conversion object\n",
    "    obConversion = openbabel.OBConversion()\n",
    "    obConversion.SetInAndOutFormats(\"smi\", \"mol\")\n",
    "    \n",
    "    # Create an OBMol object\n",
    "    obmol = openbabel.OBMol()\n",
    "    \n",
    "    # Convert SMILES to OBMol\n",
    "    obConversion.ReadString(obmol, smiles_string)\n",
    "    \n",
    "    return obmol"
   ]
  },
  {
   "cell_type": "code",
   "execution_count": null,
   "metadata": {},
   "outputs": [],
   "source": [
    "batch = []\n",
    "suppl4 = pybel.readfile(\"smi\", smi_file_no_header)\n",
    "for idx, mol in enumerate(suppl4):\n",
    "    if mol is not None:\n",
    "\n",
    "\n",
    "        batch.append(mol.write(format = \"smi\"))\n",
    "\n",
    "    if len(batch) == 10:\n",
    "\n",
    "        converted_batch = Parallel(n_jobs=2)(\n",
    "            delayed(molecule_prep2)(idx, mol) # Delayed call for molecule_prep2() once below evaluation to done.\n",
    "            for idx, mol in enumerate(batch)\n",
    "            if mol is not None\n",
    "        )"
   ]
  },
  {
   "cell_type": "code",
   "execution_count": null,
   "metadata": {},
   "outputs": [],
   "source": [
    "# Extracting the SMILES string from the rdkit mol object\n",
    "smiles_string = Chem.MolToSmiles(mol)"
   ]
  },
  {
   "cell_type": "code",
   "execution_count": null,
   "metadata": {},
   "outputs": [],
   "source": [
    "pybel.informats"
   ]
  },
  {
   "cell_type": "code",
   "execution_count": 2,
   "metadata": {},
   "outputs": [],
   "source": [
    "from scrubber import Scrub\n",
    "from rdkit import Chem"
   ]
  },
  {
   "cell_type": "code",
   "execution_count": null,
   "metadata": {},
   "outputs": [],
   "source": [
    "scrub = Scrub(ph_low=2, ph_high=11)\n",
    "\n",
    "smiles_list = [\n",
    "    \"CC(C)NC(=O)C1=CC=CO1\",\n",
    "    \"COCCNC(=O)C(C)(C)Cl\",\n",
    "    \"COC(CN)CN1CCCC1\",\n",
    "    \"CC(C)COC(=O)CC(Cl)Cl\",\n",
    "    \"CSCC1=CC=C(CF)C=C1\",\n",
    "    \"CCN(CC)C(=O)C=CCO\",\n",
    "    \"CC[C@H]1CC(NCCO)CN1\",\n",
    "    \"CCCCNC1CC(CCl)C1\",\n",
    "    \"CCOC(=O)NCCC(C)C\"\n",
    "]\n",
    "\n",
    "\n",
    "for smiles in smiles_list:\n",
    "    for mol_state in scrub(Chem.MolFromSmiles(smiles)):\n",
    "        print(\"SMILES: \", smiles, Chem.MolToSmiles(mol_state), \"Conformers: %d\" % mol_state.GetNumConformers())"
   ]
  },
  {
   "cell_type": "code",
   "execution_count": null,
   "metadata": {},
   "outputs": [],
   "source": [
    "mol = Chem.MolFromSmiles(\"C=CCN1CC23CCC2(COC3)C1\")\n",
    "mol_name = \"mol1\"\n",
    "if mol is None:\n",
    "    raise ValueError(f\"Invalid SMILES string: {smiles}\")\n",
    "\n",
    "# Assign the molecule name to the RDKit object.\n",
    "mol.SetProp('_Name', mol_name)\n",
    "\n",
    "# Prepare the ligand with Meeko.\n",
    "preparator = MoleculePreparation()\n",
    "\n",
    "variants = []\n",
    "\n",
    "# Scrubber handles protonation states, 3D coordinates, and tautomers.\n",
    "for mol_index, mol_state in enumerate(scrub(mol)):\n",
    "    variant_mol_name = f\"{mol_name}-{mol_index}\"\n",
    "    \n",
    "    mol_setups = preparator.prepare(mol_state)\n",
    "\n",
    "    for setup in mol_setups:\n",
    "        pdbqt_string, is_ok, error_msg = PDBQTWriterLegacy.write_string(setup)\n",
    "        if is_ok:\n",
    "            modified_pdbqt = f\"REMARK Name = {variant_mol_name.strip()}\\n{pdbqt_string}\"\n",
    "            variants.append((variant_mol_name, modified_pdbqt))\n",
    "print(variants)"
   ]
  },
  {
   "cell_type": "code",
   "execution_count": null,
   "metadata": {},
   "outputs": [],
   "source": [
    "from rdkit.Chem import AllChem as Chem\n",
    "\n",
    "\n",
    "smiles = \"C=CCN1CC23CCC2(COC3)C1\"\n",
    "\n",
    "mol = Chem.MolFromSmiles(smiles)\n",
    "\n",
    "fragments = Chem.GetMolFrags(mol, asMols=True)\n",
    "\n",
    "print(len(fragments))\n",
    "\n",
    "# print(Chem.MolToSmiles(fragments[0]))\n",
    "# main_fragment = max(fragments, key=lambda m: m.GetNumAtoms())\n",
    "# print(Chem.MolToSmiles(main_fragment))"
   ]
  },
  {
   "cell_type": "code",
   "execution_count": 30,
   "metadata": {},
   "outputs": [
    {
     "name": "stdout",
     "output_type": "stream",
     "text": [
      "CCCCCSCC[N+](C)(C)C.[Br-]\n",
      "SMILES:  CCCCCSCC[N+](C)(C)C.[Br-] [H]C([H])([H])C([H])([H])C([H])([H])C([H])([H])C([H])([H])SC([H])([H])C([H])([H])[N+](C([H])([H])[H])(C([H])([H])[H])C([H])([H])[H] Conformers: 1\n",
      "('0-0', 'REMARK Name = 0-0\\nREMARK SMILES CCCCCSCC[N+](C)(C)C\\nREMARK SMILES IDX 5 1 4 2 3 3 2 4 1 5 6 6 7 7 8 8 9 9 10 10 11 11 12 12\\nREMARK H PARENT\\nROOT\\nATOM      1  C   UNL     1       1.449  -0.832   1.019  1.00  0.00     0.070 C \\nENDROOT\\nBRANCH   1   2\\nATOM      2  C   UNL     1       2.476  -0.035   0.217  1.00  0.00     0.011 C \\nBRANCH   2   3\\nATOM      3  C   UNL     1       3.766  -0.841   0.033  1.00  0.00     0.001 C \\nBRANCH   3   4\\nATOM      4  C   UNL     1       4.797  -0.143  -0.856  1.00  0.00    -0.003 C \\nATOM      5  C   UNL     1       5.343   1.144  -0.257  1.00  0.00     0.004 C \\nENDBRANCH   3   4\\nENDBRANCH   2   3\\nENDBRANCH   1   2\\nBRANCH   1   6\\nATOM      6  S   UNL     1      -0.067   0.133   1.352  1.00  0.00    -0.156 SA\\nBRANCH   6   7\\nATOM      7  C   UNL     1      -0.847   0.081  -0.298  1.00  0.00     0.131 C \\nBRANCH   7   8\\nATOM      8  C   UNL     1      -2.183   0.846  -0.356  1.00  0.00     0.274 C \\nBRANCH   8   9\\nATOM      9  N   UNL     1      -3.437   0.099   0.168  1.00  0.00    -0.330 N \\nATOM     10  C   UNL     1      -3.712  -1.167  -0.633  1.00  0.00     0.334 C \\nATOM     11  C   UNL     1      -3.329  -0.252   1.648  1.00  0.00     0.334 C \\nATOM     12  C   UNL     1      -4.633   1.044  -0.001  1.00  0.00     0.334 C \\nENDBRANCH   8   9\\nENDBRANCH   7   8\\nENDBRANCH   6   7\\nENDBRANCH   1   6\\nTORSDOF 7\\n')\n"
     ]
    }
   ],
   "source": [
    "from meeko import MoleculePreparation, PDBQTWriterLegacy\n",
    "from scrubber import Scrub\n",
    "from rdkit import Chem\n",
    "from rdkit.Chem.MolStandardize import rdMolStandardize\n",
    "from rdkit.Chem.MolStandardize.rdMolStandardize import LargestFragmentChooser\n",
    "\n",
    "scrub = Scrub(\n",
    "        ph_low = 2,\n",
    "        ph_high = 11,\n",
    "    )\n",
    "\n",
    "# smiles_list = [\n",
    "#     \"CC(C)NC(=O)C1=CC=CO1\",\n",
    "#     \"COCCNC(=O)C(C)(C)Cl\",\n",
    "#     \"COC(CN)CN1CCCC1\",\n",
    "#     \"CC(C)COC(=O)CC(Cl)Cl\",\n",
    "#     \"CSCC1=CC=C(CF)C=C1\",\n",
    "#     \"CCN(CC)C(=O)C=CCO\",\n",
    "#     \"CC[C@H]1CC(NCCO)CN1\",\n",
    "#     \"CCCCNC1CC(CCl)C1\",\n",
    "#     \"CCOC(=O)NCCC(C)C\"\n",
    "# ]\n",
    "\n",
    "smiles_list = [\n",
    "    \"CCCCCSCC[N+](C)(C)C.[Br-]\"\n",
    "    \n",
    "]\n",
    "\n",
    "i = 0\n",
    "\n",
    "for smiles in smiles_list:\n",
    "    \n",
    "    rdMolStandardize.StandardizeSmiles(smiles)\n",
    "    print(smiles)\n",
    "\n",
    "    # # Reconstruct the RDKit molecule from the SMILES string.\n",
    "    mol = Chem.MolFromSmiles(smiles)\n",
    "    # if mol is None:\n",
    "    #     print(f\"Warning: Invalid SMILES string for {i}: {smiles}\")\n",
    "\n",
    "    chooser = LargestFragmentChooser()\n",
    "    mol = chooser.choose(mol)\n",
    "\n",
    "    # Assign the molecule name to the RDKit object.\n",
    "    # mol.SetProp('_Name', idx)\n",
    "\n",
    "    # Prepare the ligand with Meeko.\n",
    "    preparator = MoleculePreparation()\n",
    "\n",
    "    variants = []\n",
    "\n",
    "    # Wrap the scrub(mol) in a try-except block\n",
    "\n",
    "        # Scrubber handles protonation states, 3D coordinates, and tautomers.\n",
    "    for mol_state in scrub(mol):\n",
    "        variant_mol_name = f\"{i}-{i}\"\n",
    "        \n",
    "        fragments = Chem.GetMolFrags(mol_state, asMols=True)\n",
    "        if len(fragments) > 1:\n",
    "            mol_state = max(fragments, key=lambda m: m.GetNumAtoms())\n",
    "\n",
    "        print(\"SMILES: \", smiles, Chem.MolToSmiles(mol_state), \"Conformers: %d\" % mol_state.GetNumConformers())\n",
    "\n",
    "        mol_setups = preparator.prepare(mol_state)\n",
    "\n",
    "        for setup in mol_setups:\n",
    "            pdbqt_string, is_ok, error_msg = PDBQTWriterLegacy.write_string(setup)\n",
    "            if is_ok:\n",
    "                modified_pdbqt = f\"REMARK Name = {variant_mol_name.strip()}\\n{pdbqt_string}\"\n",
    "                variants.append((variant_mol_name, modified_pdbqt))\n",
    "\n",
    "    for variant in variants:\n",
    "        print(variant, sep = \"\\n\")"
   ]
  },
  {
   "cell_type": "code",
   "execution_count": null,
   "metadata": {},
   "outputs": [],
   "source": [
    "rdMolStandardize.StandardizeSmiles(\"CC(C)NC(=O)C1=CC=CO1\")"
   ]
  }
 ],
 "metadata": {
  "kernelspec": {
   "display_name": "ringtail",
   "language": "python",
   "name": "python3"
  },
  "language_info": {
   "codemirror_mode": {
    "name": "ipython",
    "version": 3
   },
   "file_extension": ".py",
   "mimetype": "text/x-python",
   "name": "python",
   "nbconvert_exporter": "python",
   "pygments_lexer": "ipython3",
   "version": "3.10.16"
  }
 },
 "nbformat": 4,
 "nbformat_minor": 2
}
