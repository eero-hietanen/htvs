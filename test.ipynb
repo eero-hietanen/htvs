{
 "cells": [
  {
   "cell_type": "code",
   "execution_count": null,
   "metadata": {},
   "outputs": [],
   "source": [
    "from meeko import MoleculePreparation\n",
    "from vina import Vina\n",
    "from rdkit import Chem\n",
    "from meeko import PDBQTMolecule\n",
    "from meeko import PDBQTWriterLegacy"
   ]
  },
  {
   "cell_type": "code",
   "execution_count": null,
   "metadata": {},
   "outputs": [],
   "source": [
    "v = Vina(sf_name='vina', cpu=8)\n",
    "v.set_receptor('Data/9f6a.pdbqt')\n",
    "v.set_ligand_from_file('Data/lig-1.pdbqt')\n",
    "\n",
    "docking_box = {\"center\": [136.733, 172.819, 99.189], \"box_size\": [11.69, 7.09, 7.60]}\n",
    "v.compute_vina_maps(**docking_box)\n",
    "\n",
    "v.dock(exhaustiveness=8, n_poses=5)"
   ]
  },
  {
   "cell_type": "code",
   "execution_count": 4,
   "metadata": {},
   "outputs": [],
   "source": [
    "preparator = MoleculePreparation()"
   ]
  },
  {
   "cell_type": "code",
   "execution_count": null,
   "metadata": {},
   "outputs": [],
   "source": [
    "test_lig = Chem.SDMolSupplier('Data/ligands.sdf')[0]\n",
    "test_lig"
   ]
  },
  {
   "cell_type": "code",
   "execution_count": 85,
   "metadata": {},
   "outputs": [],
   "source": [
    "test_lig = Chem.AddHs(test_lig)"
   ]
  },
  {
   "cell_type": "code",
   "execution_count": null,
   "metadata": {},
   "outputs": [],
   "source": [
    "Chem.rdDistGeom.EmbedMolecule(test_lig)"
   ]
  },
  {
   "cell_type": "code",
   "execution_count": null,
   "metadata": {},
   "outputs": [],
   "source": [
    "test_lig"
   ]
  },
  {
   "cell_type": "code",
   "execution_count": 88,
   "metadata": {},
   "outputs": [],
   "source": [
    "mol_setups = preparator.prepare(test_lig)"
   ]
  },
  {
   "cell_type": "code",
   "execution_count": null,
   "metadata": {},
   "outputs": [],
   "source": [
    "for setup in mol_setups:\n",
    "    pdbqt_string, is_ok, error_msg = PDBQTWriterLegacy.write_string(setup)\n",
    "    if is_ok:\n",
    "        print(pdbqt_string, end = \"\")"
   ]
  },
  {
   "cell_type": "code",
   "execution_count": 91,
   "metadata": {},
   "outputs": [],
   "source": [
    "ligands = Chem.SDMolSupplier('Data/ligands.sdf')"
   ]
  },
  {
   "cell_type": "code",
   "execution_count": null,
   "metadata": {},
   "outputs": [],
   "source": [
    "len(ligands)"
   ]
  },
  {
   "cell_type": "code",
   "execution_count": null,
   "metadata": {},
   "outputs": [],
   "source": [
    "for i, mol in enumerate(ligands):\n",
    "    if mol is None:\n",
    "        continue\n",
    "    if i >= 100:\n",
    "        break\n",
    "    print(ligands[i].GetProp('_Name'))"
   ]
  },
  {
   "cell_type": "code",
   "execution_count": null,
   "metadata": {},
   "outputs": [],
   "source": [
    "from rdkit.Chem import SDMolSupplier\n",
    " \n",
    "def process_ligands_in_batches(input_sdf_file, batch_size):\n",
    "    suppl = SDMolSupplier(input_sdf_file)\n",
    " \n",
    "    batch = []\n",
    "    for idx, mol in enumerate(suppl):\n",
    "        if mol is not None:\n",
    "            batch.append(mol)\n",
    " \n",
    "        # Process and flush the batch when the batch size is reached\n",
    "        if len(batch) == batch_size:\n",
    "            process_batch(batch, idx // batch_size)\n",
    "            batch.clear()  # Clear the batch after processing\n",
    " \n",
    "    # Process any remaining ligands in the final batch\n",
    "    if batch:\n",
    "        process_batch(batch, idx // batch_size)\n",
    " \n",
    "def process_batch(batch, batch_idx):\n",
    "    # Convert batch to PDBQT or perform docking in a single step\n",
    "    print(f\"Processing batch {batch_idx + 1} with {len(batch)} ligands.\")\n",
    "    # Replace with actual conversion and docking logic\n",
    " \n",
    "# Example usage\n",
    "input_sdf_file = 'ligands.sdf'\n",
    "batch_size = 100  # Adjust batch size for performance and memory\n",
    " \n",
    "process_ligands_in_batches(input_sdf_file, batch_size)"
   ]
  },
  {
   "cell_type": "code",
   "execution_count": 11,
   "metadata": {},
   "outputs": [],
   "source": [
    "import os"
   ]
  },
  {
   "cell_type": "code",
   "execution_count": 12,
   "metadata": {},
   "outputs": [],
   "source": [
    "if not os.path.exists('Output'):\n",
    "    os.makedirs('Output')"
   ]
  },
  {
   "cell_type": "code",
   "execution_count": 8,
   "metadata": {},
   "outputs": [],
   "source": [
    "from openbabel import pybel\n",
    "from openbabel import openbabel"
   ]
  },
  {
   "cell_type": "code",
   "execution_count": null,
   "metadata": {},
   "outputs": [],
   "source": [
    "mol_iter = pybel.readfile(filename = 'Data/ligands_10.sdf', format = 'sdf')"
   ]
  },
  {
   "cell_type": "code",
   "execution_count": null,
   "metadata": {},
   "outputs": [],
   "source": [
    "type(mol_iter)"
   ]
  },
  {
   "cell_type": "code",
   "execution_count": null,
   "metadata": {},
   "outputs": [],
   "source": [
    "for mol in mol_iter:\n",
    "    print(mol.molwt)"
   ]
  },
  {
   "cell_type": "code",
   "execution_count": 17,
   "metadata": {},
   "outputs": [],
   "source": [
    "from openbabel import openbabel\n",
    "from openbabel import pybel\n",
    "\n",
    "# Input and output file paths\n",
    "input_smi = \"Data/ligands_10_2.smi\"\n",
    "output_sdf = \"output_molecules4.pdbqt\"\n",
    "\n",
    "converter = openbabel.OBConversion()\n",
    "converter.SetInAndOutFormats(\"sdf\", \"pdbqt\")\n",
    "\n",
    "# Desired pH\n",
    "pH = 7.0\n",
    "\n",
    "# Open the output file\n",
    "with open(output_sdf, \"w\") as outfile:\n",
    "    # Read molecules from the SDF file\n",
    "    for mol in pybel.readfile(\"smi\", input_smi):\n",
    "        # Convert to OBMol for direct manipulation\n",
    "        obmol = mol.OBMol\n",
    "\n",
    "        # Adjust hydrogens at the specified pH\n",
    "        obmol.AddHydrogens(False, True, pH)\n",
    "    \n",
    "        # Convert the adjusted molecule back to Pybel format\n",
    "        adjusted_mol = pybel.Molecule(obmol)\n",
    "\n",
    "        adjusted_mol.make3D()\n",
    "\n",
    "        # Write output\n",
    "        outfile.write(adjusted_mol.write(\"pdbqt\"))\n"
   ]
  },
  {
   "cell_type": "code",
   "execution_count": 3,
   "metadata": {},
   "outputs": [
    {
     "name": "stderr",
     "output_type": "stream",
     "text": [
      "<frozen importlib._bootstrap>:241: DeprecationWarning: builtin type SwigPyPacked has no __module__ attribute\n",
      "<frozen importlib._bootstrap>:241: DeprecationWarning: builtin type SwigPyObject has no __module__ attribute\n",
      "<frozen importlib._bootstrap>:241: DeprecationWarning: builtin type swigvarlink has no __module__ attribute\n"
     ]
    }
   ],
   "source": [
    "import ringtail as rtc\n",
    "from joblib import Parallel, delayed\n",
    "from rdkit import Chem\n",
    "from meeko import MoleculePreparation, PDBQTWriterLegacy\n",
    "from vina import Vina\n",
    "from openbabel import openbabel, pybel\n",
    "from re import split, sub, MULTILINE"
   ]
  },
  {
   "cell_type": "code",
   "execution_count": 4,
   "metadata": {},
   "outputs": [],
   "source": [
    "# Ligand library file in .sdf format.\n",
    "sdf_file = \"Data/ligands_10.sdf\"\n",
    "\n",
    "# Ligand library file in .smi format.\n",
    "smi_file = \"Data/ligands_10.smi\"\n",
    "smi_file_no_header = \"Data/ligands_10_2.smi\"\n",
    "\n",
    "suppl = Chem.SDMolSupplier(sdf_file) # SDMolSupplier is an iterator. There's also an experimental 'MultithreadedSDMolSupplier' that may be faster.\n",
    "suppl2 = Chem.SmilesMolSupplier(smi_file, delimiter=\"\\t\") # Iterator for the .smi ligand file.\n",
    "# NOTE: Suspicion is that the pybel.readfile() iterator causes the pickling issue with joblib.\n",
    "suppl4 = pybel.readfile(\"smi\", smi_file_no_header) # Test pybel iterator for the ligand batching."
   ]
  },
  {
   "cell_type": "code",
   "execution_count": null,
   "metadata": {},
   "outputs": [],
   "source": [
    "# Text mol name extraction from rdkit mol object \n",
    "\n",
    "suppl2 = Chem.SmilesMolSupplier(smi_file, delimiter=\"\\t\") # Iterator for the .smi ligand file.\n",
    "preparator = MoleculePreparation()\n",
    "\n",
    "for mol in suppl2:\n",
    "\n",
    "    mol_name = mol.GetProp('_Name')\n",
    "\n",
    "    mol = Chem.AddHs(mol)\n",
    "    Chem.rdDistGeom.EmbedMolecule(mol)\n",
    "      \n",
    "    mol_setups = preparator.prepare(mol)\n",
    "    for setup in mol_setups:\n",
    "        pdbqt_string, is_ok, error_msg = PDBQTWriterLegacy.write_string(setup)\n",
    "        if is_ok:\n",
    "            modified_pdbqt = f\"REMARK Name = {mol_name.strip()}\\n{pdbqt_string}\"\n",
    "            print(modified_pdbqt)"
   ]
  },
  {
   "cell_type": "code",
   "execution_count": 6,
   "metadata": {},
   "outputs": [
    {
     "name": "stdout",
     "output_type": "stream",
     "text": [
      "('CC(C)NC(=O)C1=CC=CO1\\ts_527____153905____156108\\t153.181\\t11\\t1.418\\t2\\t1\\t2\\t0.375\\t42.240\\tTrue\\t\\tTrue\\tTrue\\t\\t\\tS\\tNJVSUHKJPNTYGL-UHFFFAOYSA-N\\n', 's_527____153905____156108')\n",
      "('COCCNC(=O)C(C)(C)Cl\\tm_22____57676____19882710\\t179.647\\t11\\t0.766\\t2\\t1\\t4\\t0.857\\t38.330\\tTrue\\t\\t\\t\\t\\t\\tM\\tJPZAHQNIVFLHMM-UHFFFAOYSA-N\\n', 'm_22____57676____19882710')\n",
      "('COC(CN)CN1CCCC1\\tm_271302____8904550____25575944\\t158.245\\t11\\t0.056\\t3\\t1\\t4\\t1.000\\t38.490\\tTrue\\t\\t\\t\\t\\t\\tM\\tMOEPNVYHZMLGIH-UHFFFAOYSA-N\\n', 'm_271302____8904550____25575944')\n",
      "('CC(C)COC(=O)CC(Cl)Cl\\tm_276436____14076548____23408838\\t199.077\\t11\\t2.379\\t2\\t0\\t4\\t0.857\\t26.300\\tTrue\\t\\t\\t\\t\\tTrue\\tM\\tZQNMXDTWADSSJO-UHFFFAOYSA-N\\n', 'm_276436____14076548____23408838')\n",
      "('CSCC1=CC=C(CF)C=C1\\ts_62____875850____8349548\\t170.252\\t11\\t3.019\\t1\\t0\\t3\\t0.333\\t0.000\\tTrue\\t\\t\\t\\t\\t\\tS\\tLXQJVNFOCBJMGN-UHFFFAOYSA-N\\n', 's_62____875850____8349548')\n",
      "('CCN(CC)C(=O)C=CCO\\tm_22____57744____13570734\\t157.213\\t11\\t0.403\\t2\\t1\\t4\\t0.625\\t40.540\\tTrue\\t\\t\\t\\t\\tTrue\\tM\\tXBNCGGGNWBNXBB-UHFFFAOYSA-N\\n', 'm_22____57744____13570734')\n",
      "('CC[C@H]1CC(NCCO)CN1\\tm_271302____25517132____25492046\\t158.245\\t11\\t-0.291\\t3\\t3\\t4\\t1.000\\t44.290\\tTrue\\t\\t\\t\\t\\tTrue\\tM\\tHKYVXLURLQGUSW-JAMMHHFISA-N\\n', 'm_271302____25517132____25492046')\n",
      "('CCCCNC1CC(CCl)C1\\tm_270004____8289202____24722536\\t175.703\\t11\\t2.394\\t1\\t1\\t5\\t1.000\\t12.030\\tTrue\\t\\t\\t\\t\\t\\tM\\tJIRDLQXLSDFJHB-UHFFFAOYSA-N\\n', 'm_270004____8289202____24722536')\n",
      "('CCOC(=O)NCCC(C)C\\tm_282070____22187988____22150950\\t159.229\\t11\\t1.779\\t2\\t1\\t4\\t0.875\\t38.330\\tTrue\\t\\t\\t\\t\\t\\tM\\tPXONPKCOJADKTQ-UHFFFAOYSA-N\\n', 'm_282070____22187988____22150950')\n",
      "('COCCCC(=O)CN(C)C\\tm_2230____678738____22380704\\t159.229\\t11\\t0.544\\t3\\t0\\t6\\t0.875\\t29.540\\tTrue\\t\\t\\t\\t\\t\\tM\\tZQURHDPCYBZXNR-UHFFFAOYSA-N', 'm_2230____678738____22380704')\n"
     ]
    }
   ],
   "source": [
    "with open(smi_file_no_header, \"r\") as f:\n",
    "        for line in f:\n",
    "            parts = line.strip().split(\"\\t\")\n",
    "            if len(parts) >= 2:  # Ensure the line has both SMILES and name.\n",
    "                smiles, mol_name = line, parts[1]\n",
    "                print((smiles, mol_name))  # Append a tuple of SMILES and name."
   ]
  },
  {
   "cell_type": "code",
   "execution_count": null,
   "metadata": {},
   "outputs": [],
   "source": [
    "# OK\n",
    "preparator = MoleculePreparation()\n",
    "\n",
    "for mol in suppl2:\n",
    "\n",
    "    mol = Chem.AddHs(mol)\n",
    "    Chem.rdDistGeom.EmbedMolecule(mol)\n",
    "        \n",
    "    mol_setups = preparator.prepare(mol)\n",
    "    for setup in mol_setups:\n",
    "        pdbqt_string, is_ok, error_msg = PDBQTWriterLegacy.write_string(setup)\n",
    "        if is_ok:\n",
    "            print(pdbqt_string)"
   ]
  },
  {
   "cell_type": "code",
   "execution_count": null,
   "metadata": {},
   "outputs": [],
   "source": [
    "# OK\n",
    "preparator = MoleculePreparation()\n",
    "\n",
    "for mol in suppl2:\n",
    "\n",
    "    mol = Chem.AddHs(mol)\n",
    "    Chem.rdDistGeom.EmbedMolecule(mol)\n",
    "        \n",
    "    mol_setups = preparator.prepare(mol)\n",
    "    for setup in mol_setups:\n",
    "        pdbqt_string, is_ok, error_msg = PDBQTWriterLegacy.write_string(setup)\n",
    "        if is_ok:\n",
    "            print(pdbqt_string)"
   ]
  },
  {
   "cell_type": "code",
   "execution_count": null,
   "metadata": {},
   "outputs": [],
   "source": [
    "preparator = MoleculePreparation()\n",
    "\n",
    "for mol in pybel.readfile(\"smi\", smi_file_no_header):\n",
    "\n",
    "    obmol = mol.OBMol\n",
    "\n",
    "    # Add hydrogens and consider protonation states.\n",
    "    # AddHydrogen() params: (bool polaronly=false, bool correctForPH=false, double pH=7.4)\n",
    "    obmol.AddHydrogens(False, False, 7.4)\n",
    "\n",
    "    # Convert the Open Babel molecule back to pybel molecule.\n",
    "    mol = pybel.Molecule(obmol)\n",
    "\n",
    "    mol.make3D()\n",
    "    #mol.localopt() # Coordinate improvement.\n",
    "\n",
    "    pybel_string = mol.write(format = \"pdbqt\")\n",
    "\n",
    "    print(pybel_string)"
   ]
  },
  {
   "cell_type": "code",
   "execution_count": null,
   "metadata": {},
   "outputs": [],
   "source": [
    "from re import split, sub, MULTILINE\n",
    "\n",
    "suppl4 = pybel.readfile(\"smi\", smi_file_no_header)\n",
    "\n",
    "for mol in suppl4:\n",
    "    smiles_string = split(\"\\t\", mol.write(format = \"smi\"))[0]\n",
    "    mol_name = split(\"\\t\", mol.write(format = \"smi\"))[1]\n",
    "    obmol = mol.OBMol\n",
    "    \n",
    "    # Add hydrogens and consider protonation states\n",
    "    obmol.AddHydrogens(False, False, 7.4)\n",
    "    \n",
    "    # Convert the Open Babel molecule back to pybel molecule\n",
    "    mol = pybel.Molecule(obmol)\n",
    "    mol.make3D()\n",
    "    \n",
    "    # Write PDBQT and insert custom REMARK fields\n",
    "    pybel_string = mol.write(format = \"pdbqt\")\n",
    "    # modified_pdbqt = f\"REMARK  Name = {mol_name.strip()}\\nREMARK  SMILES = {smiles_string.strip()}\\n{pybel_string}\"\n",
    "    modified_pdbqt = f\"REMARK  SMILES = {smiles_string.strip()}\\n{pybel_string}\"\n",
    "    modified_pdbqt = sub(r'^REMARK\\s+Name\\s*=.*$', f'REMARK Name = {mol_name.strip()}', modified_pdbqt, flags=MULTILINE) # Replaces the Name remark with the molecule name.\n",
    "    print(modified_pdbqt)"
   ]
  },
  {
   "cell_type": "code",
   "execution_count": 127,
   "metadata": {},
   "outputs": [],
   "source": [
    "def molecule_prep2(idx, mol):\n",
    "    try:\n",
    "        # Convert the pybel molecule to Open Babel molecule.\n",
    "        obmol = smiles_to_obmol(mol)\n",
    "\n",
    "        # Add hydrogens and consider protonation states.\n",
    "        obmol.AddHydrogens(False, True, 7.4)\n",
    "\n",
    "        # Convert the Open Babel molecule back to pybel molecule.\n",
    "        mol = pybel.Molecule(obmol)\n",
    "\n",
    "        mol.make3D()\n",
    "\n",
    "        return idx, mol.write(format = \"pdbqt\")\n",
    "    except Exception as e:\n",
    "        return idx, None, str(e)"
   ]
  },
  {
   "cell_type": "code",
   "execution_count": 124,
   "metadata": {},
   "outputs": [],
   "source": [
    "from openbabel import pybel\n",
    "from openbabel import openbabel\n",
    "\n",
    "def smiles_to_obmol(smiles_string):\n",
    "    # Create an OpenBabel conversion object\n",
    "    obConversion = openbabel.OBConversion()\n",
    "    obConversion.SetInAndOutFormats(\"smi\", \"mol\")\n",
    "    \n",
    "    # Create an OBMol object\n",
    "    obmol = openbabel.OBMol()\n",
    "    \n",
    "    # Convert SMILES to OBMol\n",
    "    obConversion.ReadString(obmol, smiles_string)\n",
    "    \n",
    "    return obmol"
   ]
  },
  {
   "cell_type": "code",
   "execution_count": null,
   "metadata": {},
   "outputs": [],
   "source": [
    "batch = []\n",
    "suppl4 = pybel.readfile(\"smi\", smi_file_no_header)\n",
    "for idx, mol in enumerate(suppl4):\n",
    "    if mol is not None:\n",
    "\n",
    "\n",
    "        batch.append(mol.write(format = \"smi\"))\n",
    "\n",
    "    if len(batch) == 10:\n",
    "\n",
    "        converted_batch = Parallel(n_jobs=2)(\n",
    "            delayed(molecule_prep2)(idx, mol) # Delayed call for molecule_prep2() once below evaluation to done.\n",
    "            for idx, mol in enumerate(batch)\n",
    "            if mol is not None\n",
    "        )"
   ]
  },
  {
   "cell_type": "code",
   "execution_count": null,
   "metadata": {},
   "outputs": [],
   "source": [
    "# Extracting the SMILES string from the rdkit mol object\n",
    "smiles_string = Chem.MolToSmiles(mol)"
   ]
  },
  {
   "cell_type": "code",
   "execution_count": null,
   "metadata": {},
   "outputs": [],
   "source": [
    "pybel.informats"
   ]
  }
 ],
 "metadata": {
  "kernelspec": {
   "display_name": "ringtail",
   "language": "python",
   "name": "python3"
  },
  "language_info": {
   "codemirror_mode": {
    "name": "ipython",
    "version": 3
   },
   "file_extension": ".py",
   "mimetype": "text/x-python",
   "name": "python",
   "nbconvert_exporter": "python",
   "pygments_lexer": "ipython3",
   "version": "3.10.16"
  }
 },
 "nbformat": 4,
 "nbformat_minor": 2
}
