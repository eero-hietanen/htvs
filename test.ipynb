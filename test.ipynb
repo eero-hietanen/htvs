{
 "cells": [
  {
   "cell_type": "code",
   "execution_count": null,
   "metadata": {},
   "outputs": [],
   "source": [
    "from meeko import MoleculePreparation\n",
    "from vina import Vina\n",
    "from rdkit import Chem\n",
    "from meeko import PDBQTMolecule\n",
    "from meeko import PDBQTWriterLegacy"
   ]
  },
  {
   "cell_type": "code",
   "execution_count": null,
   "metadata": {},
   "outputs": [],
   "source": [
    "v = Vina(sf_name='vina', cpu=8)\n",
    "v.set_receptor('Data/9f6a.pdbqt')\n",
    "v.set_ligand_from_file('Data/lig-1.pdbqt')\n",
    "\n",
    "docking_box = {\"center\": [136.733, 172.819, 99.189], \"box_size\": [11.69, 7.09, 7.60]}\n",
    "v.compute_vina_maps(**docking_box)\n",
    "\n",
    "v.dock(exhaustiveness=8, n_poses=5)"
   ]
  },
  {
   "cell_type": "code",
   "execution_count": 4,
   "metadata": {},
   "outputs": [],
   "source": [
    "preparator = MoleculePreparation()"
   ]
  },
  {
   "cell_type": "code",
   "execution_count": null,
   "metadata": {},
   "outputs": [],
   "source": [
    "test_lig = Chem.SDMolSupplier('Data/ligands.sdf')[0]\n",
    "test_lig"
   ]
  },
  {
   "cell_type": "code",
   "execution_count": 85,
   "metadata": {},
   "outputs": [],
   "source": [
    "test_lig = Chem.AddHs(test_lig)"
   ]
  },
  {
   "cell_type": "code",
   "execution_count": null,
   "metadata": {},
   "outputs": [],
   "source": [
    "Chem.rdDistGeom.EmbedMolecule(test_lig)"
   ]
  },
  {
   "cell_type": "code",
   "execution_count": null,
   "metadata": {},
   "outputs": [],
   "source": [
    "test_lig"
   ]
  },
  {
   "cell_type": "code",
   "execution_count": 88,
   "metadata": {},
   "outputs": [],
   "source": [
    "mol_setups = preparator.prepare(test_lig)"
   ]
  },
  {
   "cell_type": "code",
   "execution_count": null,
   "metadata": {},
   "outputs": [],
   "source": [
    "for setup in mol_setups:\n",
    "    pdbqt_string, is_ok, error_msg = PDBQTWriterLegacy.write_string(setup)\n",
    "    if is_ok:\n",
    "        print(pdbqt_string, end = \"\")"
   ]
  },
  {
   "cell_type": "code",
   "execution_count": 91,
   "metadata": {},
   "outputs": [],
   "source": [
    "ligands = Chem.SDMolSupplier('Data/ligands.sdf')"
   ]
  },
  {
   "cell_type": "code",
   "execution_count": null,
   "metadata": {},
   "outputs": [],
   "source": [
    "len(ligands)"
   ]
  },
  {
   "cell_type": "code",
   "execution_count": null,
   "metadata": {},
   "outputs": [],
   "source": [
    "for i, mol in enumerate(ligands):\n",
    "    if mol is None:\n",
    "        continue\n",
    "    if i >= 100:\n",
    "        break\n",
    "    print(ligands[i].GetProp('_Name'))"
   ]
  },
  {
   "cell_type": "code",
   "execution_count": null,
   "metadata": {},
   "outputs": [],
   "source": [
    "from rdkit.Chem import SDMolSupplier\n",
    " \n",
    "def process_ligands_in_batches(input_sdf_file, batch_size):\n",
    "    suppl = SDMolSupplier(input_sdf_file)\n",
    " \n",
    "    batch = []\n",
    "    for idx, mol in enumerate(suppl):\n",
    "        if mol is not None:\n",
    "            batch.append(mol)\n",
    " \n",
    "        # Process and flush the batch when the batch size is reached\n",
    "        if len(batch) == batch_size:\n",
    "            process_batch(batch, idx // batch_size)\n",
    "            batch.clear()  # Clear the batch after processing\n",
    " \n",
    "    # Process any remaining ligands in the final batch\n",
    "    if batch:\n",
    "        process_batch(batch, idx // batch_size)\n",
    " \n",
    "def process_batch(batch, batch_idx):\n",
    "    # Convert batch to PDBQT or perform docking in a single step\n",
    "    print(f\"Processing batch {batch_idx + 1} with {len(batch)} ligands.\")\n",
    "    # Replace with actual conversion and docking logic\n",
    " \n",
    "# Example usage\n",
    "input_sdf_file = 'ligands.sdf'\n",
    "batch_size = 100  # Adjust batch size for performance and memory\n",
    " \n",
    "process_ligands_in_batches(input_sdf_file, batch_size)"
   ]
  },
  {
   "cell_type": "code",
   "execution_count": 11,
   "metadata": {},
   "outputs": [],
   "source": [
    "import os"
   ]
  },
  {
   "cell_type": "code",
   "execution_count": 12,
   "metadata": {},
   "outputs": [],
   "source": [
    "if not os.path.exists('Output'):\n",
    "    os.makedirs('Output')"
   ]
  },
  {
   "cell_type": "code",
   "execution_count": 8,
   "metadata": {},
   "outputs": [],
   "source": [
    "from openbabel import pybel\n",
    "from openbabel import openbabel"
   ]
  },
  {
   "cell_type": "code",
   "execution_count": null,
   "metadata": {},
   "outputs": [],
   "source": [
    "mol_iter = pybel.readfile(filename = 'Data/ligands_10.sdf', format = 'sdf')"
   ]
  },
  {
   "cell_type": "code",
   "execution_count": null,
   "metadata": {},
   "outputs": [],
   "source": [
    "type(mol_iter)"
   ]
  },
  {
   "cell_type": "code",
   "execution_count": null,
   "metadata": {},
   "outputs": [],
   "source": [
    "for mol in mol_iter:\n",
    "    print(mol.molwt)"
   ]
  },
  {
   "cell_type": "code",
   "execution_count": 17,
   "metadata": {},
   "outputs": [],
   "source": [
    "from openbabel import openbabel\n",
    "from openbabel import pybel\n",
    "\n",
    "# Input and output file paths\n",
    "input_smi = \"Data/ligands_10_2.smi\"\n",
    "output_sdf = \"output_molecules4.pdbqt\"\n",
    "\n",
    "converter = openbabel.OBConversion()\n",
    "converter.SetInAndOutFormats(\"sdf\", \"pdbqt\")\n",
    "\n",
    "# Desired pH\n",
    "pH = 7.0\n",
    "\n",
    "# Open the output file\n",
    "with open(output_sdf, \"w\") as outfile:\n",
    "    # Read molecules from the SDF file\n",
    "    for mol in pybel.readfile(\"smi\", input_smi):\n",
    "        # Convert to OBMol for direct manipulation\n",
    "        obmol = mol.OBMol\n",
    "\n",
    "        # Adjust hydrogens at the specified pH\n",
    "        obmol.AddHydrogens(False, True, pH)\n",
    "    \n",
    "        # Convert the adjusted molecule back to Pybel format\n",
    "        adjusted_mol = pybel.Molecule(obmol)\n",
    "\n",
    "        adjusted_mol.make3D()\n",
    "\n",
    "        # Write output\n",
    "        outfile.write(adjusted_mol.write(\"pdbqt\"))\n"
   ]
  },
  {
   "cell_type": "code",
   "execution_count": null,
   "metadata": {},
   "outputs": [],
   "source": []
  }
 ],
 "metadata": {
  "kernelspec": {
   "display_name": "ringtail",
   "language": "python",
   "name": "python3"
  },
  "language_info": {
   "codemirror_mode": {
    "name": "ipython",
    "version": 3
   },
   "file_extension": ".py",
   "mimetype": "text/x-python",
   "name": "python",
   "nbconvert_exporter": "python",
   "pygments_lexer": "ipython3",
   "version": "3.10.16"
  }
 },
 "nbformat": 4,
 "nbformat_minor": 2
}
